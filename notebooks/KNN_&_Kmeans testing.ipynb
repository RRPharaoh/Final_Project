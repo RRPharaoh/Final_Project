{
 "cells": [
  {
   "cell_type": "markdown",
   "metadata": {},
   "source": [
    "Kmeans and knn"
   ]
  },
  {
   "cell_type": "code",
   "execution_count": 1,
   "metadata": {},
   "outputs": [],
   "source": [
    "# importing libraries\n",
    "import numpy as np \n",
    "import pandas as pd \n",
    "import seaborn as sns\n",
    "import matplotlib.pyplot as plt\n",
    "from sklearn.neighbors import KNeighborsClassifier\n",
    "from sklearn.cluster import KMeans\n",
    "from sklearn.preprocessing import LabelEncoder\n",
    "from sklearn.preprocessing import StandardScaler\n",
    "from sklearn.metrics import classification_report\n",
    "from sklearn.metrics import accuracy_score"
   ]
  },
  {
   "cell_type": "code",
   "execution_count": 565,
   "metadata": {},
   "outputs": [],
   "source": [
    "dps = pd.read_csv('..\\data\\s4_dps.csv')\n",
    "heals = pd.read_csv('..\\data\\s4_heals.csv')\n",
    "tanks = pd.read_csv('..\\data\\s4_tank.csv')"
   ]
  },
  {
   "cell_type": "markdown",
   "metadata": {},
   "source": [
    "Preprocessing"
   ]
  },
  {
   "cell_type": "code",
   "execution_count": 566,
   "metadata": {},
   "outputs": [
    {
     "data": {
      "text/html": [
       "<div>\n",
       "<style scoped>\n",
       "    .dataframe tbody tr th:only-of-type {\n",
       "        vertical-align: middle;\n",
       "    }\n",
       "\n",
       "    .dataframe tbody tr th {\n",
       "        vertical-align: top;\n",
       "    }\n",
       "\n",
       "    .dataframe thead th {\n",
       "        text-align: right;\n",
       "    }\n",
       "</style>\n",
       "<table border=\"1\" class=\"dataframe\">\n",
       "  <thead>\n",
       "    <tr style=\"text-align: right;\">\n",
       "      <th></th>\n",
       "      <th>Hero</th>\n",
       "      <th>Skill Tier</th>\n",
       "      <th>KDA Ratio</th>\n",
       "      <th>Pick Rate, %</th>\n",
       "      <th>Win Rate, %</th>\n",
       "      <th>Eliminations / 10min</th>\n",
       "      <th>Objective Kills / 10min</th>\n",
       "      <th>Objective Time / 10min</th>\n",
       "      <th>Damage / 10min</th>\n",
       "      <th>Healing / 10min</th>\n",
       "      <th>Deaths / 10min</th>\n",
       "      <th>Scoped Accuracy, %</th>\n",
       "      <th>Role</th>\n",
       "    </tr>\n",
       "  </thead>\n",
       "  <tbody>\n",
       "    <tr>\n",
       "      <th>0</th>\n",
       "      <td>Genji</td>\n",
       "      <td>All</td>\n",
       "      <td>2.50</td>\n",
       "      <td>3.45</td>\n",
       "      <td>49.28</td>\n",
       "      <td>18.30</td>\n",
       "      <td>5.06</td>\n",
       "      <td>64</td>\n",
       "      <td>7292</td>\n",
       "      <td>NaN</td>\n",
       "      <td>8.09</td>\n",
       "      <td>NaN</td>\n",
       "      <td>Damage</td>\n",
       "    </tr>\n",
       "    <tr>\n",
       "      <th>1</th>\n",
       "      <td>Genji</td>\n",
       "      <td>Bronze</td>\n",
       "      <td>2.37</td>\n",
       "      <td>1.15</td>\n",
       "      <td>44.89</td>\n",
       "      <td>16.33</td>\n",
       "      <td>5.34</td>\n",
       "      <td>70</td>\n",
       "      <td>6572</td>\n",
       "      <td>NaN</td>\n",
       "      <td>8.15</td>\n",
       "      <td>NaN</td>\n",
       "      <td>Damage</td>\n",
       "    </tr>\n",
       "    <tr>\n",
       "      <th>2</th>\n",
       "      <td>Genji</td>\n",
       "      <td>Silver</td>\n",
       "      <td>2.53</td>\n",
       "      <td>1.40</td>\n",
       "      <td>47.39</td>\n",
       "      <td>16.91</td>\n",
       "      <td>5.26</td>\n",
       "      <td>69</td>\n",
       "      <td>6777</td>\n",
       "      <td>NaN</td>\n",
       "      <td>8.16</td>\n",
       "      <td>NaN</td>\n",
       "      <td>Damage</td>\n",
       "    </tr>\n",
       "    <tr>\n",
       "      <th>3</th>\n",
       "      <td>Genji</td>\n",
       "      <td>Gold</td>\n",
       "      <td>2.50</td>\n",
       "      <td>2.21</td>\n",
       "      <td>48.29</td>\n",
       "      <td>17.63</td>\n",
       "      <td>5.31</td>\n",
       "      <td>68</td>\n",
       "      <td>7044</td>\n",
       "      <td>NaN</td>\n",
       "      <td>8.17</td>\n",
       "      <td>NaN</td>\n",
       "      <td>Damage</td>\n",
       "    </tr>\n",
       "    <tr>\n",
       "      <th>4</th>\n",
       "      <td>Genji</td>\n",
       "      <td>Platinum</td>\n",
       "      <td>2.51</td>\n",
       "      <td>3.53</td>\n",
       "      <td>49.10</td>\n",
       "      <td>18.32</td>\n",
       "      <td>5.21</td>\n",
       "      <td>66</td>\n",
       "      <td>7291</td>\n",
       "      <td>NaN</td>\n",
       "      <td>8.14</td>\n",
       "      <td>NaN</td>\n",
       "      <td>Damage</td>\n",
       "    </tr>\n",
       "  </tbody>\n",
       "</table>\n",
       "</div>"
      ],
      "text/plain": [
       "    Hero Skill Tier  KDA Ratio  Pick Rate, %  Win Rate, %  \\\n",
       "0  Genji        All       2.50          3.45        49.28   \n",
       "1  Genji     Bronze       2.37          1.15        44.89   \n",
       "2  Genji     Silver       2.53          1.40        47.39   \n",
       "3  Genji       Gold       2.50          2.21        48.29   \n",
       "4  Genji   Platinum       2.51          3.53        49.10   \n",
       "\n",
       "   Eliminations / 10min  Objective Kills / 10min  Objective Time / 10min  \\\n",
       "0                 18.30                     5.06                      64   \n",
       "1                 16.33                     5.34                      70   \n",
       "2                 16.91                     5.26                      69   \n",
       "3                 17.63                     5.31                      68   \n",
       "4                 18.32                     5.21                      66   \n",
       "\n",
       "   Damage / 10min  Healing / 10min  Deaths / 10min  Scoped Accuracy, %    Role  \n",
       "0            7292              NaN            8.09                 NaN  Damage  \n",
       "1            6572              NaN            8.15                 NaN  Damage  \n",
       "2            6777              NaN            8.16                 NaN  Damage  \n",
       "3            7044              NaN            8.17                 NaN  Damage  \n",
       "4            7291              NaN            8.14                 NaN  Damage  "
      ]
     },
     "execution_count": 566,
     "metadata": {},
     "output_type": "execute_result"
    }
   ],
   "source": [
    "dps.head()"
   ]
  },
  {
   "cell_type": "code",
   "execution_count": 567,
   "metadata": {},
   "outputs": [
    {
     "data": {
      "text/plain": [
       "array(['All', 'Bronze', 'Diamond', 'Gold', 'Grandmaster', 'Master',\n",
       "       'Platinum', 'Silver'], dtype=object)"
      ]
     },
     "execution_count": 567,
     "metadata": {},
     "output_type": "execute_result"
    }
   ],
   "source": [
    "#finding different class labels \n",
    "np.unique(dps['Skill Tier'])"
   ]
  },
  {
   "cell_type": "code",
   "execution_count": 568,
   "metadata": {},
   "outputs": [
    {
     "data": {
      "text/plain": [
       "(136, 13)"
      ]
     },
     "execution_count": 568,
     "metadata": {},
     "output_type": "execute_result"
    }
   ],
   "source": [
    "dps.shape"
   ]
  },
  {
   "cell_type": "code",
   "execution_count": 569,
   "metadata": {},
   "outputs": [
    {
     "name": "stdout",
     "output_type": "stream",
     "text": [
      "<class 'pandas.core.frame.DataFrame'>\n",
      "RangeIndex: 136 entries, 0 to 135\n",
      "Data columns (total 13 columns):\n",
      " #   Column                   Non-Null Count  Dtype  \n",
      "---  ------                   --------------  -----  \n",
      " 0   Hero                     136 non-null    object \n",
      " 1   Skill Tier               136 non-null    object \n",
      " 2   KDA Ratio                136 non-null    float64\n",
      " 3   Pick Rate, %             136 non-null    float64\n",
      " 4   Win Rate, %              136 non-null    float64\n",
      " 5   Eliminations / 10min     136 non-null    float64\n",
      " 6   Objective Kills / 10min  136 non-null    float64\n",
      " 7   Objective Time / 10min   136 non-null    int64  \n",
      " 8   Damage / 10min           136 non-null    int64  \n",
      " 9   Healing / 10min          8 non-null      float64\n",
      " 10  Deaths / 10min           136 non-null    float64\n",
      " 11  Scoped Accuracy, %       16 non-null     float64\n",
      " 12  Role                     136 non-null    object \n",
      "dtypes: float64(8), int64(2), object(3)\n",
      "memory usage: 13.9+ KB\n"
     ]
    }
   ],
   "source": [
    "dps.info()"
   ]
  },
  {
   "cell_type": "code",
   "execution_count": 570,
   "metadata": {},
   "outputs": [],
   "source": [
    "dps_test = dps.copy()"
   ]
  },
  {
   "cell_type": "code",
   "execution_count": 571,
   "metadata": {},
   "outputs": [
    {
     "data": {
      "text/plain": [
       "array(['All', 'Bronze', 'Diamond', 'Gold', 'Grandmaster', 'Master',\n",
       "       'Platinum', 'Silver'], dtype=object)"
      ]
     },
     "execution_count": 571,
     "metadata": {},
     "output_type": "execute_result"
    }
   ],
   "source": [
    "np.unique(dps_test['Skill Tier'])"
   ]
  },
  {
   "cell_type": "code",
   "execution_count": 572,
   "metadata": {},
   "outputs": [
    {
     "data": {
      "text/plain": [
       "Hero                         0\n",
       "Skill Tier                   0\n",
       "KDA Ratio                    0\n",
       "Pick Rate, %                 0\n",
       "Win Rate, %                  0\n",
       "Eliminations / 10min         0\n",
       "Objective Kills / 10min      0\n",
       "Objective Time / 10min       0\n",
       "Damage / 10min               0\n",
       "Healing / 10min            128\n",
       "Deaths / 10min               0\n",
       "Scoped Accuracy, %         120\n",
       "Role                         0\n",
       "dtype: int64"
      ]
     },
     "execution_count": 572,
     "metadata": {},
     "output_type": "execute_result"
    }
   ],
   "source": [
    "dps_test.isnull().sum()"
   ]
  },
  {
   "cell_type": "code",
   "execution_count": null,
   "metadata": {},
   "outputs": [],
   "source": [
    "columns_to_drop = ['Scoped Accuracy, %', 'Healing / 10min', 'Role', 'Pick Rate, %']\n",
    "\n",
    "# Drop the specified columns\n",
    "dps_test = dps_test.drop(columns=columns_to_drop)"
   ]
  },
  {
   "cell_type": "code",
   "execution_count": 573,
   "metadata": {},
   "outputs": [],
   "source": [
    "# LabelEncoder for 'Hero' column\n",
    "hero_encoder = LabelEncoder()\n",
    "dps_test['Hero'] = hero_encoder.fit_transform(dps_test['Hero'])\n",
    "\n",
    "# LabelEncoder for 'Role' column\n",
    "skill_tier_encoder = LabelEncoder()\n",
    "dps_test['Skill Tier'] = skill_tier_encoder.fit_transform(dps_test['Skill Tier'])"
   ]
  },
  {
   "cell_type": "code",
   "execution_count": 575,
   "metadata": {},
   "outputs": [
    {
     "data": {
      "text/html": [
       "<div>\n",
       "<style scoped>\n",
       "    .dataframe tbody tr th:only-of-type {\n",
       "        vertical-align: middle;\n",
       "    }\n",
       "\n",
       "    .dataframe tbody tr th {\n",
       "        vertical-align: top;\n",
       "    }\n",
       "\n",
       "    .dataframe thead th {\n",
       "        text-align: right;\n",
       "    }\n",
       "</style>\n",
       "<table border=\"1\" class=\"dataframe\">\n",
       "  <thead>\n",
       "    <tr style=\"text-align: right;\">\n",
       "      <th></th>\n",
       "      <th>Hero</th>\n",
       "      <th>Skill Tier</th>\n",
       "      <th>KDA Ratio</th>\n",
       "      <th>Win Rate, %</th>\n",
       "      <th>Eliminations / 10min</th>\n",
       "      <th>Objective Kills / 10min</th>\n",
       "      <th>Objective Time / 10min</th>\n",
       "      <th>Damage / 10min</th>\n",
       "      <th>Deaths / 10min</th>\n",
       "    </tr>\n",
       "  </thead>\n",
       "  <tbody>\n",
       "    <tr>\n",
       "      <th>0</th>\n",
       "      <td>4</td>\n",
       "      <td>0</td>\n",
       "      <td>2.50</td>\n",
       "      <td>49.28</td>\n",
       "      <td>18.30</td>\n",
       "      <td>5.06</td>\n",
       "      <td>64</td>\n",
       "      <td>7292</td>\n",
       "      <td>8.09</td>\n",
       "    </tr>\n",
       "    <tr>\n",
       "      <th>1</th>\n",
       "      <td>4</td>\n",
       "      <td>1</td>\n",
       "      <td>2.37</td>\n",
       "      <td>44.89</td>\n",
       "      <td>16.33</td>\n",
       "      <td>5.34</td>\n",
       "      <td>70</td>\n",
       "      <td>6572</td>\n",
       "      <td>8.15</td>\n",
       "    </tr>\n",
       "    <tr>\n",
       "      <th>2</th>\n",
       "      <td>4</td>\n",
       "      <td>7</td>\n",
       "      <td>2.53</td>\n",
       "      <td>47.39</td>\n",
       "      <td>16.91</td>\n",
       "      <td>5.26</td>\n",
       "      <td>69</td>\n",
       "      <td>6777</td>\n",
       "      <td>8.16</td>\n",
       "    </tr>\n",
       "    <tr>\n",
       "      <th>3</th>\n",
       "      <td>4</td>\n",
       "      <td>3</td>\n",
       "      <td>2.50</td>\n",
       "      <td>48.29</td>\n",
       "      <td>17.63</td>\n",
       "      <td>5.31</td>\n",
       "      <td>68</td>\n",
       "      <td>7044</td>\n",
       "      <td>8.17</td>\n",
       "    </tr>\n",
       "    <tr>\n",
       "      <th>4</th>\n",
       "      <td>4</td>\n",
       "      <td>6</td>\n",
       "      <td>2.51</td>\n",
       "      <td>49.10</td>\n",
       "      <td>18.32</td>\n",
       "      <td>5.21</td>\n",
       "      <td>66</td>\n",
       "      <td>7291</td>\n",
       "      <td>8.14</td>\n",
       "    </tr>\n",
       "  </tbody>\n",
       "</table>\n",
       "</div>"
      ],
      "text/plain": [
       "   Hero  Skill Tier  KDA Ratio  Win Rate, %  Eliminations / 10min  \\\n",
       "0     4           0       2.50        49.28                 18.30   \n",
       "1     4           1       2.37        44.89                 16.33   \n",
       "2     4           7       2.53        47.39                 16.91   \n",
       "3     4           3       2.50        48.29                 17.63   \n",
       "4     4           6       2.51        49.10                 18.32   \n",
       "\n",
       "   Objective Kills / 10min  Objective Time / 10min  Damage / 10min  \\\n",
       "0                     5.06                      64            7292   \n",
       "1                     5.34                      70            6572   \n",
       "2                     5.26                      69            6777   \n",
       "3                     5.31                      68            7044   \n",
       "4                     5.21                      66            7291   \n",
       "\n",
       "   Deaths / 10min  \n",
       "0            8.09  \n",
       "1            8.15  \n",
       "2            8.16  \n",
       "3            8.17  \n",
       "4            8.14  "
      ]
     },
     "execution_count": 575,
     "metadata": {},
     "output_type": "execute_result"
    }
   ],
   "source": [
    "dps_test.head()"
   ]
  },
  {
   "cell_type": "code",
   "execution_count": 576,
   "metadata": {},
   "outputs": [
    {
     "data": {
      "text/plain": [
       "<Axes: >"
      ]
     },
     "execution_count": 576,
     "metadata": {},
     "output_type": "execute_result"
    },
    {
     "data": {
      "image/png": "[encoded data removed]",
      "text/plain": [
       "<Figure size 640x480 with 2 Axes>"
      ]
     },
     "metadata": {},
     "output_type": "display_data"
    }
   ],
   "source": [
    "dps_corr = dps_test.corr()\n",
    "\n",
    "sns.heatmap(dps_corr, annot=True)"
   ]
  },
  {
   "cell_type": "code",
   "execution_count": 577,
   "metadata": {},
   "outputs": [
    {
     "data": {
      "text/html": [
       "<div>\n",
       "<style scoped>\n",
       "    .dataframe tbody tr th:only-of-type {\n",
       "        vertical-align: middle;\n",
       "    }\n",
       "\n",
       "    .dataframe tbody tr th {\n",
       "        vertical-align: top;\n",
       "    }\n",
       "\n",
       "    .dataframe thead th {\n",
       "        text-align: right;\n",
       "    }\n",
       "</style>\n",
       "<table border=\"1\" class=\"dataframe\">\n",
       "  <thead>\n",
       "    <tr style=\"text-align: right;\">\n",
       "      <th></th>\n",
       "      <th>Hero</th>\n",
       "      <th>Skill Tier</th>\n",
       "      <th>KDA Ratio</th>\n",
       "      <th>Win Rate, %</th>\n",
       "      <th>Eliminations / 10min</th>\n",
       "      <th>Objective Kills / 10min</th>\n",
       "      <th>Objective Time / 10min</th>\n",
       "      <th>Damage / 10min</th>\n",
       "      <th>Deaths / 10min</th>\n",
       "    </tr>\n",
       "  </thead>\n",
       "  <tbody>\n",
       "    <tr>\n",
       "      <th>0</th>\n",
       "      <td>4</td>\n",
       "      <td>0</td>\n",
       "      <td>2.50</td>\n",
       "      <td>49.28</td>\n",
       "      <td>18.30</td>\n",
       "      <td>5.06</td>\n",
       "      <td>64</td>\n",
       "      <td>7292</td>\n",
       "      <td>8.09</td>\n",
       "    </tr>\n",
       "    <tr>\n",
       "      <th>1</th>\n",
       "      <td>4</td>\n",
       "      <td>1</td>\n",
       "      <td>2.37</td>\n",
       "      <td>44.89</td>\n",
       "      <td>16.33</td>\n",
       "      <td>5.34</td>\n",
       "      <td>70</td>\n",
       "      <td>6572</td>\n",
       "      <td>8.15</td>\n",
       "    </tr>\n",
       "    <tr>\n",
       "      <th>2</th>\n",
       "      <td>4</td>\n",
       "      <td>7</td>\n",
       "      <td>2.53</td>\n",
       "      <td>47.39</td>\n",
       "      <td>16.91</td>\n",
       "      <td>5.26</td>\n",
       "      <td>69</td>\n",
       "      <td>6777</td>\n",
       "      <td>8.16</td>\n",
       "    </tr>\n",
       "    <tr>\n",
       "      <th>3</th>\n",
       "      <td>4</td>\n",
       "      <td>3</td>\n",
       "      <td>2.50</td>\n",
       "      <td>48.29</td>\n",
       "      <td>17.63</td>\n",
       "      <td>5.31</td>\n",
       "      <td>68</td>\n",
       "      <td>7044</td>\n",
       "      <td>8.17</td>\n",
       "    </tr>\n",
       "    <tr>\n",
       "      <th>4</th>\n",
       "      <td>4</td>\n",
       "      <td>6</td>\n",
       "      <td>2.51</td>\n",
       "      <td>49.10</td>\n",
       "      <td>18.32</td>\n",
       "      <td>5.21</td>\n",
       "      <td>66</td>\n",
       "      <td>7291</td>\n",
       "      <td>8.14</td>\n",
       "    </tr>\n",
       "  </tbody>\n",
       "</table>\n",
       "</div>"
      ],
      "text/plain": [
       "   Hero  Skill Tier  KDA Ratio  Win Rate, %  Eliminations / 10min  \\\n",
       "0     4           0       2.50        49.28                 18.30   \n",
       "1     4           1       2.37        44.89                 16.33   \n",
       "2     4           7       2.53        47.39                 16.91   \n",
       "3     4           3       2.50        48.29                 17.63   \n",
       "4     4           6       2.51        49.10                 18.32   \n",
       "\n",
       "   Objective Kills / 10min  Objective Time / 10min  Damage / 10min  \\\n",
       "0                     5.06                      64            7292   \n",
       "1                     5.34                      70            6572   \n",
       "2                     5.26                      69            6777   \n",
       "3                     5.31                      68            7044   \n",
       "4                     5.21                      66            7291   \n",
       "\n",
       "   Deaths / 10min  \n",
       "0            8.09  \n",
       "1            8.15  \n",
       "2            8.16  \n",
       "3            8.17  \n",
       "4            8.14  "
      ]
     },
     "execution_count": 577,
     "metadata": {},
     "output_type": "execute_result"
    }
   ],
   "source": [
    "dps_test.head()"
   ]
  },
  {
   "cell_type": "code",
   "execution_count": 578,
   "metadata": {},
   "outputs": [],
   "source": [
    "columns_to_scale = dps_test.iloc[:, 2:]\n",
    "\n",
    "# Extract the numerical values from the selected rows\n",
    "data_to_scale = columns_to_scale.select_dtypes(include=['float64', 'int64']).values\n",
    "\n",
    "# Initialize the StandardScaler\n",
    "scaler = StandardScaler()\n",
    "\n",
    "# Fit and transform the selected rows\n",
    "scaled_data = scaler.fit_transform(data_to_scale)\n",
    "\n",
    "\n",
    "\n"
   ]
  },
  {
   "cell_type": "code",
   "execution_count": 579,
   "metadata": {},
   "outputs": [],
   "source": [
    "# Convert back to a DataFrame\n",
    "scaled_dps = pd.DataFrame(scaled_data, columns=columns_to_scale.select_dtypes(include=['float64', 'int64']).columns)"
   ]
  },
  {
   "cell_type": "code",
   "execution_count": 580,
   "metadata": {},
   "outputs": [],
   "source": [
    "# Replace the original values with the scaled values in the DataFrame\n",
    "dps_test.iloc[:, 2:] = scaled_dps"
   ]
  },
  {
   "cell_type": "code",
   "execution_count": 581,
   "metadata": {},
   "outputs": [],
   "source": [
    "scaled_dps = pd.concat([dps_test.iloc[:, :2], scaled_dps], axis=1)\n"
   ]
  },
  {
   "cell_type": "code",
   "execution_count": 582,
   "metadata": {},
   "outputs": [
    {
     "data": {
      "text/html": [
       "<div>\n",
       "<style scoped>\n",
       "    .dataframe tbody tr th:only-of-type {\n",
       "        vertical-align: middle;\n",
       "    }\n",
       "\n",
       "    .dataframe tbody tr th {\n",
       "        vertical-align: top;\n",
       "    }\n",
       "\n",
       "    .dataframe thead th {\n",
       "        text-align: right;\n",
       "    }\n",
       "</style>\n",
       "<table border=\"1\" class=\"dataframe\">\n",
       "  <thead>\n",
       "    <tr style=\"text-align: right;\">\n",
       "      <th></th>\n",
       "      <th>Hero</th>\n",
       "      <th>Skill Tier</th>\n",
       "      <th>KDA Ratio</th>\n",
       "      <th>Win Rate, %</th>\n",
       "      <th>Eliminations / 10min</th>\n",
       "      <th>Objective Kills / 10min</th>\n",
       "      <th>Objective Time / 10min</th>\n",
       "      <th>Damage / 10min</th>\n",
       "      <th>Deaths / 10min</th>\n",
       "    </tr>\n",
       "  </thead>\n",
       "  <tbody>\n",
       "    <tr>\n",
       "      <th>0</th>\n",
       "      <td>4</td>\n",
       "      <td>0</td>\n",
       "      <td>-0.769081</td>\n",
       "      <td>0.748537</td>\n",
       "      <td>0.319700</td>\n",
       "      <td>-1.105581</td>\n",
       "      <td>0.586690</td>\n",
       "      <td>-0.508912</td>\n",
       "      <td>0.411954</td>\n",
       "    </tr>\n",
       "    <tr>\n",
       "      <th>1</th>\n",
       "      <td>4</td>\n",
       "      <td>1</td>\n",
       "      <td>-0.975133</td>\n",
       "      <td>-0.664606</td>\n",
       "      <td>-1.006419</td>\n",
       "      <td>-0.872724</td>\n",
       "      <td>0.973082</td>\n",
       "      <td>-1.084713</td>\n",
       "      <td>0.502440</td>\n",
       "    </tr>\n",
       "    <tr>\n",
       "      <th>2</th>\n",
       "      <td>4</td>\n",
       "      <td>7</td>\n",
       "      <td>-0.721531</td>\n",
       "      <td>0.140145</td>\n",
       "      <td>-0.615988</td>\n",
       "      <td>-0.939254</td>\n",
       "      <td>0.908684</td>\n",
       "      <td>-0.920770</td>\n",
       "      <td>0.517521</td>\n",
       "    </tr>\n",
       "    <tr>\n",
       "      <th>3</th>\n",
       "      <td>4</td>\n",
       "      <td>3</td>\n",
       "      <td>-0.769081</td>\n",
       "      <td>0.429855</td>\n",
       "      <td>-0.131315</td>\n",
       "      <td>-0.897673</td>\n",
       "      <td>0.844285</td>\n",
       "      <td>-0.707244</td>\n",
       "      <td>0.532602</td>\n",
       "    </tr>\n",
       "    <tr>\n",
       "      <th>4</th>\n",
       "      <td>4</td>\n",
       "      <td>6</td>\n",
       "      <td>-0.753231</td>\n",
       "      <td>0.690595</td>\n",
       "      <td>0.333163</td>\n",
       "      <td>-0.980836</td>\n",
       "      <td>0.715488</td>\n",
       "      <td>-0.509712</td>\n",
       "      <td>0.487359</td>\n",
       "    </tr>\n",
       "  </tbody>\n",
       "</table>\n",
       "</div>"
      ],
      "text/plain": [
       "   Hero  Skill Tier  KDA Ratio  Win Rate, %  Eliminations / 10min  \\\n",
       "0     4           0  -0.769081     0.748537              0.319700   \n",
       "1     4           1  -0.975133    -0.664606             -1.006419   \n",
       "2     4           7  -0.721531     0.140145             -0.615988   \n",
       "3     4           3  -0.769081     0.429855             -0.131315   \n",
       "4     4           6  -0.753231     0.690595              0.333163   \n",
       "\n",
       "   Objective Kills / 10min  Objective Time / 10min  Damage / 10min  \\\n",
       "0                -1.105581                0.586690       -0.508912   \n",
       "1                -0.872724                0.973082       -1.084713   \n",
       "2                -0.939254                0.908684       -0.920770   \n",
       "3                -0.897673                0.844285       -0.707244   \n",
       "4                -0.980836                0.715488       -0.509712   \n",
       "\n",
       "   Deaths / 10min  \n",
       "0        0.411954  \n",
       "1        0.502440  \n",
       "2        0.517521  \n",
       "3        0.532602  \n",
       "4        0.487359  "
      ]
     },
     "execution_count": 582,
     "metadata": {},
     "output_type": "execute_result"
    }
   ],
   "source": [
    "scaled_dps.head()"
   ]
  },
  {
   "cell_type": "code",
   "execution_count": 583,
   "metadata": {},
   "outputs": [
    {
     "data": {
      "text/plain": [
       "Hero                       0\n",
       "Skill Tier                 0\n",
       "KDA Ratio                  0\n",
       "Win Rate, %                0\n",
       "Eliminations / 10min       0\n",
       "Objective Kills / 10min    0\n",
       "Objective Time / 10min     0\n",
       "Damage / 10min             0\n",
       "Deaths / 10min             0\n",
       "dtype: int64"
      ]
     },
     "execution_count": 583,
     "metadata": {},
     "output_type": "execute_result"
    }
   ],
   "source": [
    "scaled_dps.isnull().sum()"
   ]
  },
  {
   "cell_type": "code",
   "execution_count": 584,
   "metadata": {},
   "outputs": [],
   "source": [
    "scaled_dps = dps_test.dropna()"
   ]
  },
  {
   "cell_type": "code",
   "execution_count": 585,
   "metadata": {},
   "outputs": [
    {
     "data": {
      "text/plain": [
       "Hero                       0\n",
       "Skill Tier                 0\n",
       "KDA Ratio                  0\n",
       "Win Rate, %                0\n",
       "Eliminations / 10min       0\n",
       "Objective Kills / 10min    0\n",
       "Objective Time / 10min     0\n",
       "Damage / 10min             0\n",
       "Deaths / 10min             0\n",
       "dtype: int64"
      ]
     },
     "execution_count": 585,
     "metadata": {},
     "output_type": "execute_result"
    }
   ],
   "source": [
    "scaled_dps.isnull().sum()"
   ]
  },
  {
   "cell_type": "code",
   "execution_count": 597,
   "metadata": {},
   "outputs": [
    {
     "name": "stdout",
     "output_type": "stream",
     "text": [
      "(136, 8)\n",
      "(136,)\n",
      "(102, 8)\n",
      "(102,)\n",
      "(34, 8)\n",
      "(34,)\n"
     ]
    }
   ],
   "source": [
    "#converting dataframe to np array \n",
    "data = scaled_dps.values \n",
    "\n",
    "X = data[:, [0] + list(range(2, data.shape[1]))]\n",
    "Y = data[:, 1]\n",
    "\n",
    "print(X.shape)\n",
    "print(Y.shape)\n",
    "\n",
    "#train-test split = 3:1 \n",
    "\n",
    "total_rows = 136\n",
    "\n",
    "# Calculate the number of rows for the training set (75% of the total)\n",
    "train_rows = int(0.75 * total_rows)\n",
    "\n",
    "# Training set\n",
    "train_x = X[:train_rows, ]\n",
    "train_y = Y[:train_rows, ]\n",
    "\n",
    "# Testing set\n",
    "test_x = X[train_rows:, ]\n",
    "test_y = Y[train_rows:, ]\n",
    "\n",
    "print(train_x.shape)\n",
    "print(train_y.shape)\n",
    "print(test_x.shape)\n",
    "print(test_y.shape)"
   ]
  },
  {
   "cell_type": "code",
   "execution_count": 607,
   "metadata": {},
   "outputs": [
    {
     "name": "stdout",
     "output_type": "stream",
     "text": [
      "17.647058823529413\n",
      "23.52941176470588\n"
     ]
    }
   ],
   "source": [
    "# KNN \n",
    "\n",
    "knn = KNeighborsClassifier(n_neighbors=8)\n",
    "knn.fit(train_x, train_y)\n",
    "\n",
    "# training predictions\n",
    "train_preds= knn.predict(train_x)\n",
    "\n",
    "# testing predictions\n",
    "test_preds = knn.predict(test_x)\n",
    "\n",
    "# KNN model accuracy\n",
    "\n",
    "#training accuracy\n",
    "print(accuracy_score(train_y, train_preds)*100)\n",
    "#testing accuracy\n",
    "print(accuracy_score(test_y, test_preds)*100)"
   ]
  },
  {
   "cell_type": "code",
   "execution_count": 588,
   "metadata": {},
   "outputs": [],
   "source": [
    "def optimize_kmeans(X, max_clusters):\n",
    "    distortions = []\n",
    "    for i in range(1, max_clusters +1):\n",
    "        km = KMeans(n_clusters=i,\n",
    "                    init='k-means++',\n",
    "                    n_init=10,\n",
    "                    random_state=0)\n",
    "        km.fit(X)\n",
    "        distortions.append(km.inertia_)\n",
    "        \n",
    "    plt.plot(range(1,max_clusters +1), distortions, marker='o')\n",
    "    plt.xlabel('Number of clusters')\n",
    "    plt.ylabel('Distortion')\n",
    "    plt.show()  "
   ]
  },
  {
   "cell_type": "code",
   "execution_count": 589,
   "metadata": {},
   "outputs": [
    {
     "name": "stderr",
     "output_type": "stream",
     "text": [
      "c:\\Users\\rakee\\anaconda3\\Lib\\site-packages\\sklearn\\cluster\\_kmeans.py:1436: UserWarning: KMeans is known to have a memory leak on Windows with MKL, when there are less chunks than available threads. You can avoid it by setting the environment variable OMP_NUM_THREADS=1.\n",
      "  warnings.warn(\n"
     ]
    },
    {
     "name": "stderr",
     "output_type": "stream",
     "text": [
      "c:\\Users\\rakee\\anaconda3\\Lib\\site-packages\\sklearn\\cluster\\_kmeans.py:1436: UserWarning: KMeans is known to have a memory leak on Windows with MKL, when there are less chunks than available threads. You can avoid it by setting the environment variable OMP_NUM_THREADS=1.\n",
      "  warnings.warn(\n",
      "c:\\Users\\rakee\\anaconda3\\Lib\\site-packages\\sklearn\\cluster\\_kmeans.py:1436: UserWarning: KMeans is known to have a memory leak on Windows with MKL, when there are less chunks than available threads. You can avoid it by setting the environment variable OMP_NUM_THREADS=1.\n",
      "  warnings.warn(\n",
      "c:\\Users\\rakee\\anaconda3\\Lib\\site-packages\\sklearn\\cluster\\_kmeans.py:1436: UserWarning: KMeans is known to have a memory leak on Windows with MKL, when there are less chunks than available threads. You can avoid it by setting the environment variable OMP_NUM_THREADS=1.\n",
      "  warnings.warn(\n",
      "c:\\Users\\rakee\\anaconda3\\Lib\\site-packages\\sklearn\\cluster\\_kmeans.py:1436: UserWarning: KMeans is known to have a memory leak on Windows with MKL, when there are less chunks than available threads. You can avoid it by setting the environment variable OMP_NUM_THREADS=1.\n",
      "  warnings.warn(\n",
      "c:\\Users\\rakee\\anaconda3\\Lib\\site-packages\\sklearn\\cluster\\_kmeans.py:1436: UserWarning: KMeans is known to have a memory leak on Windows with MKL, when there are less chunks than available threads. You can avoid it by setting the environment variable OMP_NUM_THREADS=1.\n",
      "  warnings.warn(\n",
      "c:\\Users\\rakee\\anaconda3\\Lib\\site-packages\\sklearn\\cluster\\_kmeans.py:1436: UserWarning: KMeans is known to have a memory leak on Windows with MKL, when there are less chunks than available threads. You can avoid it by setting the environment variable OMP_NUM_THREADS=1.\n",
      "  warnings.warn(\n",
      "c:\\Users\\rakee\\anaconda3\\Lib\\site-packages\\sklearn\\cluster\\_kmeans.py:1436: UserWarning: KMeans is known to have a memory leak on Windows with MKL, when there are less chunks than available threads. You can avoid it by setting the environment variable OMP_NUM_THREADS=1.\n",
      "  warnings.warn(\n",
      "c:\\Users\\rakee\\anaconda3\\Lib\\site-packages\\sklearn\\cluster\\_kmeans.py:1436: UserWarning: KMeans is known to have a memory leak on Windows with MKL, when there are less chunks than available threads. You can avoid it by setting the environment variable OMP_NUM_THREADS=1.\n",
      "  warnings.warn(\n",
      "c:\\Users\\rakee\\anaconda3\\Lib\\site-packages\\sklearn\\cluster\\_kmeans.py:1436: UserWarning: KMeans is known to have a memory leak on Windows with MKL, when there are less chunks than available threads. You can avoid it by setting the environment variable OMP_NUM_THREADS=1.\n",
      "  warnings.warn(\n"
     ]
    },
    {
     "data": {
      "image/png": "[encoded data removed]",
      "text/plain": [
       "<Figure size 640x480 with 1 Axes>"
      ]
     },
     "metadata": {},
     "output_type": "display_data"
    }
   ],
   "source": [
    "optimize_kmeans(scaled_dps, 10)"
   ]
  },
  {
   "cell_type": "code",
   "execution_count": 590,
   "metadata": {},
   "outputs": [
    {
     "name": "stderr",
     "output_type": "stream",
     "text": [
      "c:\\Users\\rakee\\anaconda3\\Lib\\site-packages\\sklearn\\cluster\\_kmeans.py:1412: FutureWarning: The default value of `n_init` will change from 10 to 'auto' in 1.4. Set the value of `n_init` explicitly to suppress the warning\n",
      "  super()._check_params_vs_input(X, default_n_init=10)\n",
      "c:\\Users\\rakee\\anaconda3\\Lib\\site-packages\\sklearn\\cluster\\_kmeans.py:1436: UserWarning: KMeans is known to have a memory leak on Windows with MKL, when there are less chunks than available threads. You can avoid it by setting the environment variable OMP_NUM_THREADS=1.\n",
      "  warnings.warn(\n"
     ]
    }
   ],
   "source": [
    "#KMeans\n",
    "\n",
    "kmeans = KMeans(n_clusters=3)\n",
    "kmeans.fit(train_x, train_y)\n",
    "\n",
    "# training predictions\n",
    "train_labels= kmeans.predict(train_x)\n",
    "\n",
    "#testing predictions\n",
    "test_labels = kmeans.predict(test_x)"
   ]
  },
  {
   "cell_type": "code",
   "execution_count": 591,
   "metadata": {},
   "outputs": [
    {
     "name": "stdout",
     "output_type": "stream",
     "text": [
      "12.962962962962962\n",
      "10.714285714285714\n"
     ]
    }
   ],
   "source": [
    "#KMeans model accuracy\n",
    "\n",
    " \n",
    "\n",
    "#training accuracy\n",
    "print(accuracy_score(train_y, train_labels)*100)\n",
    "#testing accuracy\n",
    "print(accuracy_score(test_labels, test_y)*100)"
   ]
  }
 ],
 "metadata": {
  "kernelspec": {
   "display_name": "lighthouse_labs_env",
   "language": "python",
   "name": "lighthouse_labs_env"
  },
  "language_info": {
   "codemirror_mode": {
    "name": "ipython",
    "version": 3
   },
   "file_extension": ".py",
   "mimetype": "text/x-python",
   "name": "python",
   "nbconvert_exporter": "python",
   "pygments_lexer": "ipython3",
   "version": "3.11.5"
  }
 },
 "nbformat": 4,
 "nbformat_minor": 2
}
